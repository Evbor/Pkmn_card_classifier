{
 "cells": [
  {
   "cell_type": "markdown",
   "metadata": {},
   "source": [
    "# Pokemon Card Classifier"
   ]
  },
  {
   "cell_type": "code",
   "execution_count": 34,
   "metadata": {},
   "outputs": [],
   "source": [
    "import os\n",
    "import random\n",
    "import matplotlib.pyplot as plt\n",
    "import numpy as np\n",
    "import pandas as pd\n",
    "import tensorflow as tf\n",
    "import tensorflow.keras as k\n",
    "import sklearn.model_selection as ms\n",
    "from tensorflow.keras.preprocessing.image import ImageDataGenerator"
   ]
  },
  {
   "cell_type": "code",
   "execution_count": 35,
   "metadata": {},
   "outputs": [],
   "source": [
    "# functions\n",
    "def print_experiments(mnt_pt):\n",
    "    for experiment in os.listdir(mnt_pt):\n",
    "        experiment_path = mnt_pt + '/' + experiment\n",
    "        print('Experiment {0} directory: {1}'.format(experiment, experiment_path))\n",
    "        for directory in os.listdir(experiment_path):\n",
    "            if directory == 'dataset':\n",
    "                print('dataset path: {} \\n'.format(experiment_path + '/' + directory))\n",
    "            else:\n",
    "                print('no dataset directory in experiment directory: {0}, subdirectories are: {1}'.format(experiment, os.listdir(experiment_path)))"
   ]
  },
  {
   "cell_type": "code",
   "execution_count": 36,
   "metadata": {},
   "outputs": [
    {
     "name": "stdout",
     "output_type": "stream",
     "text": [
      "Experiment base_set_classifier directory: data/base_set_classifier\n",
      "dataset path: data/base_set_classifier/dataset \n",
      "\n"
     ]
    }
   ],
   "source": [
    "mnt_pt = 'data'\n",
    "print_experiments(mnt_pt)"
   ]
  },
  {
   "cell_type": "code",
   "execution_count": 37,
   "metadata": {},
   "outputs": [],
   "source": [
    "### Constants\n",
    "# file constants\n",
    "dataset_path = 'data/base_set_classifier/dataset'\n",
    "# data properties\n",
    "img_size = (550,400) # (height, width) in pixels\n",
    "color_mode = 'rgb'\n",
    "batch_size = 32\n",
    "random_seed = 20"
   ]
  },
  {
   "cell_type": "markdown",
   "metadata": {},
   "source": [
    "## Exploratory Data Analysis"
   ]
  },
  {
   "cell_type": "code",
   "execution_count": 38,
   "metadata": {},
   "outputs": [
    {
     "name": "stdout",
     "output_type": "stream",
     "text": [
      "Found 10984 images belonging to 2 classes.\n",
      "Dictionary mapping classes to numerical labels: {'not_base_set': 1, 'base_set': 0}\n"
     ]
    }
   ],
   "source": [
    "data_generator = ImageDataGenerator().flow_from_directory(dataset_path, target_size=(550,400), color_mode='rgb', batch_size=32, class_mode='binary',\n",
    "                                                          shuffle=True, seed=42)\n",
    "encoding_map = data_generator.class_indices\n",
    "print('Dictionary mapping classes to numerical labels: {}'.format(encoding_map))"
   ]
  },
  {
   "cell_type": "markdown",
   "metadata": {},
   "source": [
    "#### Class Frequency Histogram"
   ]
  },
  {
   "cell_type": "code",
   "execution_count": 39,
   "metadata": {},
   "outputs": [
    {
     "data": {
      "image/png": "[encoded data removed]",
      "text/plain": [
       "<Figure size 432x288 with 1 Axes>"
      ]
     },
     "metadata": {
      "needs_background": "light"
     },
     "output_type": "display_data"
    },
    {
     "name": "stdout",
     "output_type": "stream",
     "text": [
      "Number of samples in not_base_set class: 10882\n",
      "Number of samples in base_set class: 102\n",
      "Expected value for probability of drawing a not_base_set sample from our dataset: 0.9907137654770576\n",
      "Expected value for probability of drawing a base_set sample from our dataset: 0.009286234522942461\n"
     ]
    }
   ],
   "source": [
    "all_labels = data_generator.labels\n",
    "label_counts = np.asarray([np.sum((all_labels == label).astype(np.int32)) for label in encoding_map.values()])\n",
    "plt.bar(encoding_map.values(), label_counts)\n",
    "plt.xticks(list(encoding_map.values()), list(encoding_map.keys()))\n",
    "plt.xlabel('Classes')\n",
    "plt.ylabel('Counts')\n",
    "plt.title('Frequency of Classes')\n",
    "plt.show()\n",
    "label_frequencies = label_counts / len(all_labels)\n",
    "for name, num in np.squeeze(np.dstack((np.asarray(list(encoding_map.keys())), label_counts))):\n",
    "    print('Number of samples in {0} class: {1}'.format(name, num))\n",
    "for name, freq in np.squeeze(np.dstack((np.asarray(list(encoding_map.keys())), label_frequencies))):\n",
    "    print('Expected value for probability of drawing a {0} sample from our dataset: {1}'.format(name, freq))"
   ]
  },
  {
   "cell_type": "markdown",
   "metadata": {},
   "source": [
    "### Conclusions"
   ]
  },
  {
   "cell_type": "markdown",
   "metadata": {},
   "source": [
    "We can clearly see from the above histogram that our dataset is very unbalanced and that we can expect an average (expected value) accuracy of 0.9907 for classification if we constructed a model that only predicted not_base_set for all examples in our sample dataset since the probability of encountering a non_base_set example is 0.9907. A classifier of this design would have great accuracy scores but would have trouble predicting examples that are truely base_set. This suggests that classification accuracy might not be the best measure of our models performance and that maybe we should look at the precision, recall, and F1 scores of our specific classes. Assuming our dataset sample is a representative sample of the total population of all possible base set pokemon card images and non base set pokemon card images that will ever be uploaded to the app then there would be no issue with the unbalancedness of this dataset, but if it isn't a representative sample of the population then our classifier would have a heavy bias on predicting not base set. This assumption is unlikely to be valid because there is no good reason to suggest that users would prefer to upload more images of one class than the other. Which means that a classifier trained on this dataset and cross validated for highest accuracy would most likely be heavily biased on labeling examples as non base set, and would perform pretty poorly when deployed."
   ]
  },
  {
   "cell_type": "markdown",
   "metadata": {},
   "source": [
    "There are a couple of ways we can deal with the above problem.\n",
    "1. Undersample our most represented class, and maximize accuracy when we think our sample is representative. The issue though is the amount of examples of our under represented class (or over represented class after undersampling) might not be enough for our model to learn to identify them, and we would have to bias our model more in order to achieve better results (but overall worse results than our higher variance model trained on more data)\n",
    "2. Oversample our under represented class, and maximize accuracy when we think our sample is representative. The issue with this solution is that at some point if we oversample too much the model might overtrain on the under represented class and not generalize well in deployment.\n",
    "3. Oversample our under represented class with image augmentation. Again the downside to this solution is that our image augmentation might not be strong enough to produce examples that are different enough from the ones we started with and this will eventually cause overtraining.\n",
    "4. Brute force search for model architectures that can learn to maximize our precision, recall, and F1 metrics from the limited amount of data we have for our under represented class. The problem with this solution is that the models we might find might not perform as well as we want on these metrics because the models that are capable of learning from our limited amount of data for our under represented class might be heavily biased, making the overall scores on our metrics not high.\n",
    "5. Change our loss function to penalize wrong classification of the under represented class more than that of the over represented class.\n",
    "6. Gather more data!!"
   ]
  },
  {
   "cell_type": "markdown",
   "metadata": {},
   "source": [
    "## Model Development"
   ]
  },
  {
   "cell_type": "markdown",
   "metadata": {},
   "source": [
    "Since we are more concerned with our model identifying base set examples than non base set examples the metrics we should be concerned with are the precision, recall and F1 scores for our base set class. **Since recall is essentially our accuracy score on predicting base set examples, and precision is our measure of certainty on our predictions of base set, we naturally would want to maximize both. This implies we should maximize our F1 score since it is the unweighted harmonic mean of our precision and recall scores.**"
   ]
  },
  {
   "cell_type": "markdown",
   "metadata": {},
   "source": [
    "Solutions 1-3"
   ]
  },
  {
   "cell_type": "markdown",
   "metadata": {},
   "source": [
    "#### Data Preprocessing"
   ]
  },
  {
   "cell_type": "code",
   "execution_count": 40,
   "metadata": {},
   "outputs": [],
   "source": [
    "# Functions\n",
    "\n",
    "def compresssed_dataset(dataset_path):\n",
    "    classes = os.listdir(dataset_path)\n",
    "    ds = []\n",
    "    for c in classes:\n",
    "        class_path = dataset_path + '/' + c\n",
    "        imgs_of_c = os.listdir(class_path)\n",
    "        ext = lambda img: class_path + '/' + img\n",
    "        imgpaths_of_c = list(map(ext, imgs_of_c))\n",
    "        samples_of_c = list(zip(imgpaths_of_c, [c for _ in range(len(imgpaths_of_c))]))\n",
    "        ds.extend(samples_of_c)\n",
    "    ds = np.asarray(ds)        \n",
    "    return ds\n",
    "        \n",
    "\n",
    "\"\"\"\n",
    "\n",
    "\"\"\"\n",
    "def stratified_partitions(k, dataset_path, seed=None):\n",
    "    random.seed(seed)\n",
    "    classes = os.listdir(dataset_path)\n",
    "    samples_of_classes = []\n",
    "    for c in classes:\n",
    "        samples_of_c = os.listdir(dataset_path + '/' + c)\n",
    "        samples_of_c = list(zip(samples_of_c, [c for _ in range(len(samples_of_c))]))\n",
    "        random.shuffle(samples_of_c)\n",
    "        samples_of_classes.append(samples_of_c)\n",
    "    if (min(list(map(len, samples_of_classes))) / k) < 1:\n",
    "        raise Exception(\"cannot partition datset into {0} partitions and still keep each partition startified\".format(k))\n",
    "    partitions_of_classes = [[samples_of_class[i * (len(samples_of_class) // k) + min(i, len(samples_of_class) % k):(i+1) * (len(samples_of_class) // k) +\n",
    "                                               min(i+1, len(samples_of_class) % k)] for i in range(k)] for samples_of_class in samples_of_classes]\n",
    "    partitions = []\n",
    "    num_classes = len(partitions_of_classes)\n",
    "    for i in range(k):\n",
    "        partition = []\n",
    "        for c in range(num_classes):\n",
    "            partition.extend(partitions_of_classes[c][i])\n",
    "        random.shuffle(partition)\n",
    "        partitions.append(partition)\n",
    "    return partitions\n",
    "\n",
    "\"\"\"\n",
    "samples_per_class: dictionary, with keys that are the names of the different classes, and values that are the number of samples to draw from a specified \n",
    "                   class.\n",
    "dataset_path: string or numpy array, a path to dataset with subfolders containing samples of a specific class with the name of the class as the \n",
    "              subfolde, or a numpy array where each row is a sample and the first column is filename and the second is label\n",
    "replacement: dictionary, with keys that are the names of the different classes, and values that are boolean which specify whether sampling from the\n",
    "             specified class should be done with replacement (True) or not (False)\n",
    "\n",
    "returns: numpy array, of tuples, containing (path to image, label) representing the sampled dataset from the original dataset.\n",
    "\"\"\"\n",
    "def sample_dataset(samples_per_class, dataset, replacement, seed=None):\n",
    "    random.seed(seed)\n",
    "    sampled_set = []\n",
    "    classes = np.unique(dataset[:,1])\n",
    "    if samples_per_class == None:\n",
    "        samples_per_class = {c: np.sum(dataset[:,1] == c) for c in classes}\n",
    "    if replacement == None:\n",
    "        replacement = {c: False for c in classes}\n",
    "    for c in classes:\n",
    "        imgpaths_per_c = dataset[dataset[:,1] == c]\n",
    "        idx = np.random.choice(len(imgpaths_per_c), size=samples_per_class[c], replace=replacement[c])\n",
    "        sampled_set.extend(imgpaths_per_c[idx])       \n",
    "    return np.asarray(sampled_set)  \n",
    "\n",
    "def encode(label):\n",
    "    encoding = {'base_set': '1', 'not_base_set': '0'}\n",
    "    return encoding[label]\n",
    "\n",
    "def encode_dataframe(df):\n",
    "    df['class'] = df['class'].map(encode)\n",
    "    return df\n",
    "    "
   ]
  },
  {
   "cell_type": "code",
   "execution_count": 41,
   "metadata": {},
   "outputs": [
    {
     "name": "stdout",
     "output_type": "stream",
     "text": [
      "Number of samples in the training set: 6590\n",
      "Number of samples in the validation set: 2197\n",
      "Number of samples in the test set: 2197\n",
      "\n",
      "Number of base_set samples in training set: 61\n",
      "Number of not_base_set samples in training set: 6529\n",
      "\n",
      "Number of base_set samples in validation set: 21\n",
      "Number of not_base_set samples in validation set: 2176\n",
      "\n",
      "Number of base_set samples in test set: 20\n",
      "Number of not_base_set samples in test set: 2177\n"
     ]
    }
   ],
   "source": [
    "# Splitting dataset into a train set, validation set, and test set\n",
    "test_proportion = 1/5\n",
    "val_proportion = 1/5\n",
    "\n",
    "ds = compresssed_dataset(dataset_path)\n",
    "filenames, labels = ds[:,0], ds[:,1]\n",
    "names = np.unique(labels)\n",
    "\n",
    "filenames_train_val, filenames_test, labels_train_val, labels_test = ms.train_test_split(filenames, labels, test_size=test_proportion, stratify=labels,\n",
    "                                                                                         random_state=random_seed)\n",
    "filenames_train, filenames_val, labels_train, labels_val = ms.train_test_split(filenames_train_val, labels_train_val, \n",
    "                                                                               test_size=(val_proportion/(1 - test_proportion)), \n",
    "                                                                               stratify=labels_train_val, random_state=random_seed)\n",
    "train_size = len(filenames_train)\n",
    "val_size = len(filenames_val)\n",
    "test_size = len(filenames_test)\n",
    "print('Number of samples in the training set: {}'.format(train_size))\n",
    "print('Number of samples in the validation set: {}'.format(val_size))\n",
    "print('Number of samples in the test set: {}\\n'.format(test_size))\n",
    "for name in names:\n",
    "    num_of_name = np.sum(labels_train == name)\n",
    "    print('Number of {0} samples in training set: {1}'.format(name, num_of_name))\n",
    "print('')\n",
    "for name in names:\n",
    "    num_of_name = np.sum(labels_val == name)\n",
    "    print('Number of {0} samples in validation set: {1}'.format(name, num_of_name))\n",
    "print('')\n",
    "for name in names:\n",
    "    num_of_name = np.sum(labels_test == name)\n",
    "    print('Number of {0} samples in test set: {1}'.format(name, num_of_name))"
   ]
  },
  {
   "cell_type": "code",
   "execution_count": 42,
   "metadata": {},
   "outputs": [],
   "source": [
    "# Upsampling and downsampling datasets\n",
    "\n",
    "class_samples_train = {'base_set': 100, 'not_base_set': 100}\n",
    "class_samples_val = {'base_set': 40, 'not_base_set': 40}\n",
    "class_samples_test = None\n",
    "\n",
    "replacement_train = {'base_set': True, 'not_base_set': False}\n",
    "replacement_val = {'base_set': True, 'not_base_set': False}\n",
    "replacement_test = None\n",
    "\n",
    "filenames_train, labels_train = sample_dataset(class_samples_train, np.squeeze(np.dstack((filenames_train, labels_train))), replacement_train, seed=random_seed).T\n",
    "filenames_val, labels_val = sample_dataset(class_samples_val, np.squeeze(np.dstack((filenames_val, labels_val))), replacement_val, seed=random_seed).T\n",
    "filenames_test, labels_test = sample_dataset(class_samples_test, np.squeeze(np.dstack((filenames_test, labels_test))), replacement_test, seed=random_seed).T\n",
    "\n",
    "train_pd = encode_dataframe(pd.DataFrame({'filename': filenames_train, 'class': labels_train}))\n",
    "\n",
    "val_pd = encode_dataframe(pd.DataFrame({'filename': filenames_val, 'class': labels_val}))\n",
    "test_pd = encode_dataframe(pd.DataFrame({'filename': filenames_test, 'class': labels_test}))"
   ]
  },
  {
   "cell_type": "code",
   "execution_count": 43,
   "metadata": {},
   "outputs": [
    {
     "data": {
      "text/html": [
       "<div>\n",
       "<style scoped>\n",
       "    .dataframe tbody tr th:only-of-type {\n",
       "        vertical-align: middle;\n",
       "    }\n",
       "\n",
       "    .dataframe tbody tr th {\n",
       "        vertical-align: top;\n",
       "    }\n",
       "\n",
       "    .dataframe thead th {\n",
       "        text-align: right;\n",
       "    }\n",
       "</style>\n",
       "<table border=\"1\" class=\"dataframe\">\n",
       "  <thead>\n",
       "    <tr style=\"text-align: right;\">\n",
       "      <th></th>\n",
       "      <th>class</th>\n",
       "      <th>filename</th>\n",
       "    </tr>\n",
       "  </thead>\n",
       "  <tbody>\n",
       "    <tr>\n",
       "      <th>0</th>\n",
       "      <td>1</td>\n",
       "      <td>data/base_set_classifier/dataset/base_set/swit...</td>\n",
       "    </tr>\n",
       "    <tr>\n",
       "      <th>1</th>\n",
       "      <td>1</td>\n",
       "      <td>data/base_set_classifier/dataset/base_set/star...</td>\n",
       "    </tr>\n",
       "    <tr>\n",
       "      <th>2</th>\n",
       "      <td>1</td>\n",
       "      <td>data/base_set_classifier/dataset/base_set/lass...</td>\n",
       "    </tr>\n",
       "    <tr>\n",
       "      <th>3</th>\n",
       "      <td>1</td>\n",
       "      <td>data/base_set_classifier/dataset/base_set/vulp...</td>\n",
       "    </tr>\n",
       "    <tr>\n",
       "      <th>4</th>\n",
       "      <td>1</td>\n",
       "      <td>data/base_set_classifier/dataset/base_set/ener...</td>\n",
       "    </tr>\n",
       "  </tbody>\n",
       "</table>\n",
       "</div>"
      ],
      "text/plain": [
       "  class                                           filename\n",
       "0     1  data/base_set_classifier/dataset/base_set/swit...\n",
       "1     1  data/base_set_classifier/dataset/base_set/star...\n",
       "2     1  data/base_set_classifier/dataset/base_set/lass...\n",
       "3     1  data/base_set_classifier/dataset/base_set/vulp...\n",
       "4     1  data/base_set_classifier/dataset/base_set/ener..."
      ]
     },
     "execution_count": 43,
     "metadata": {},
     "output_type": "execute_result"
    }
   ],
   "source": [
    "val_pd.head()"
   ]
  },
  {
   "cell_type": "code",
   "execution_count": 44,
   "metadata": {},
   "outputs": [
    {
     "name": "stdout",
     "output_type": "stream",
     "text": [
      "Found 200 validated image filenames belonging to 2 classes.\n",
      "Found 80 validated image filenames belonging to 2 classes.\n",
      "Found 2197 validated image filenames belonging to 2 classes.\n",
      "{'0': 0, '1': 1}\n",
      "{'0': 0, '1': 1}\n",
      "{'0': 0, '1': 1}\n"
     ]
    }
   ],
   "source": [
    "# Augmenting datasets \n",
    "train_datagen = ImageDataGenerator(height_shift_range=0.5, rotation_range=90, horizontal_flip=True, vertical_flip=True)\n",
    "valid_datagen = ImageDataGenerator(height_shift_range=0.5, rotation_range=90, horizontal_flip=True, vertical_flip=True)\n",
    "test_datagen = ImageDataGenerator(height_shift_range=0.5, rotation_range=90, horizontal_flip=True, vertical_flip=True)\n",
    "\n",
    "train_generator = train_datagen.flow_from_dataframe(train_pd, target_size=img_size, class_mode='binary', batch_size=batch_size, drop_duplicates=False, seed=random_seed)\n",
    "valid_generator = valid_datagen.flow_from_dataframe(val_pd, target_size=img_size, class_mode='binary', batch_size=batch_size, drop_duplicates=False, seed=random_seed)\n",
    "test_generator = test_datagen.flow_from_dataframe(test_pd, target_size=img_size, class_mode='binary', batch_size=batch_size, drop_duplicates=False, seed=random_seed)\n",
    "\n",
    "print(train_generator.class_indices)\n",
    "print(valid_generator.class_indices)\n",
    "print(test_generator.class_indices)"
   ]
  },
  {
   "cell_type": "markdown",
   "metadata": {},
   "source": [
    "#### Models"
   ]
  },
  {
   "cell_type": "code",
   "execution_count": 45,
   "metadata": {},
   "outputs": [],
   "source": [
    "def model_1(): \n",
    "    inputs = k.Input(shape=(*img_size, 3))\n",
    "    x = k.layers.Conv2D(5, (2,2), strides=(1,1), padding='same', \n",
    "                      input_shape=(*img_size, 3), activation='relu')(inputs)\n",
    "    x = k.layers.MaxPooling2D(pool_size=(2,2), strides=(2,2), padding='valid')(x)\n",
    "    x = k.layers.Conv2D(10, (5,5), strides=(1,1), padding='same', activation='relu')(x)\n",
    "    x = k.layers.MaxPooling2D(pool_size=(5,5), strides=(5,5), padding='valid')(x)\n",
    "    x = k.layers.Conv2D(25, (10,10), strides=(1,1), padding='same', activation='relu')(x)\n",
    "    x = k.layers.MaxPooling2D(pool_size=(10,10), strides=(10,10), padding='valid')(x)\n",
    "    x = k.layers.Flatten()(x)\n",
    "    x = k.layers.Dense(100, activation='relu')(x)\n",
    "    x = k.layers.Dense(40, activation='relu')(x)\n",
    "    x = k.layers.Dense(15, activation='relu')(x)\n",
    "    x = k.layers.Dense(5, activation='relu')(x)\n",
    "    predictions = k.layers.Dense(1, activation='sigmoid', use_bias=False)(x)\n",
    "    model = k.models.Model(inputs=inputs, outputs=predictions)\n",
    "    model.compile(optimizer=tf.train.GradientDescentOptimizer(learning_rate=0.001), loss=k.losses.BinaryCrossentropy(),\n",
    "                  metrics=[k.metrics.BinaryAccuracy(), k.metrics.Precision(), k.metrics.Recall()])\n",
    "    return model"
   ]
  },
  {
   "cell_type": "markdown",
   "metadata": {},
   "source": [
    "#### Training and Cross-validating Models"
   ]
  },
  {
   "cell_type": "code",
   "execution_count": 46,
   "metadata": {},
   "outputs": [
    {
     "name": "stderr",
     "output_type": "stream",
     "text": [
      "WARNING: Logging before flag parsing goes to stderr.\n",
      "W0808 20:29:29.321953 140492141201152 deprecation.py:506] From /usr/local/lib/python3.5/dist-packages/tensorflow/python/ops/init_ops.py:1251: calling VarianceScaling.__init__ (from tensorflow.python.ops.init_ops) with dtype is deprecated and will be removed in a future version.\n",
      "Instructions for updating:\n",
      "Call initializer instance with the dtype argument instead of passing it to the constructor\n",
      "W0808 20:29:29.524790 140492141201152 deprecation.py:323] From /usr/local/lib/python3.5/dist-packages/tensorflow/python/ops/nn_impl.py:180: add_dispatch_support.<locals>.wrapper (from tensorflow.python.ops.array_ops) is deprecated and will be removed in a future version.\n",
      "Instructions for updating:\n",
      "Use tf.where in 2.0, which has the same broadcast rule as np.where\n"
     ]
    },
    {
     "name": "stdout",
     "output_type": "stream",
     "text": [
      "Model: \"model\"\n",
      "_________________________________________________________________\n",
      "Layer (type)                 Output Shape              Param #   \n",
      "=================================================================\n",
      "input_1 (InputLayer)         [(None, 550, 400, 3)]     0         \n",
      "_________________________________________________________________\n",
      "conv2d (Conv2D)              (None, 550, 400, 5)       65        \n",
      "_________________________________________________________________\n",
      "max_pooling2d (MaxPooling2D) (None, 275, 200, 5)       0         \n",
      "_________________________________________________________________\n",
      "conv2d_1 (Conv2D)            (None, 275, 200, 10)      1260      \n",
      "_________________________________________________________________\n",
      "max_pooling2d_1 (MaxPooling2 (None, 55, 40, 10)        0         \n",
      "_________________________________________________________________\n",
      "conv2d_2 (Conv2D)            (None, 55, 40, 25)        25025     \n",
      "_________________________________________________________________\n",
      "max_pooling2d_2 (MaxPooling2 (None, 5, 4, 25)          0         \n",
      "_________________________________________________________________\n",
      "flatten (Flatten)            (None, 500)               0         \n",
      "_________________________________________________________________\n",
      "dense (Dense)                (None, 100)               50100     \n",
      "_________________________________________________________________\n",
      "dense_1 (Dense)              (None, 40)                4040      \n",
      "_________________________________________________________________\n",
      "dense_2 (Dense)              (None, 15)                615       \n",
      "_________________________________________________________________\n",
      "dense_3 (Dense)              (None, 5)                 80        \n",
      "_________________________________________________________________\n",
      "dense_4 (Dense)              (None, 1)                 5         \n",
      "=================================================================\n",
      "Total params: 81,190\n",
      "Trainable params: 81,190\n",
      "Non-trainable params: 0\n",
      "_________________________________________________________________\n",
      "None\n"
     ]
    }
   ],
   "source": [
    "model = model_1()\n",
    "print(model.summary())"
   ]
  },
  {
   "cell_type": "code",
   "execution_count": 47,
   "metadata": {},
   "outputs": [
    {
     "name": "stdout",
     "output_type": "stream",
     "text": [
      "Epoch 1/10\n",
      "2000/2000 [==============================] - 1866s 933ms/step - loss: 0.6744 - binary_accuracy: 0.5936 - precision: 0.7161 - recall: 0.3103 - val_loss: 0.6014 - val_binary_accuracy: 0.7957 - val_precision: 0.7497 - val_recall: 0.8877\n",
      "Epoch 2/10\n",
      "2000/2000 [==============================] - 1864s 932ms/step - loss: 0.4400 - binary_accuracy: 0.8344 - precision: 0.8027 - recall: 0.8867 - val_loss: 0.2264 - val_binary_accuracy: 0.8993 - val_precision: 0.8951 - val_recall: 0.9038\n",
      "Epoch 3/10\n",
      "2000/2000 [==============================] - 1861s 931ms/step - loss: 0.1659 - binary_accuracy: 0.9373 - precision: 0.9225 - recall: 0.9548 - val_loss: 0.1702 - val_binary_accuracy: 0.9349 - val_precision: 0.9794 - val_recall: 0.8888\n",
      "Epoch 4/10\n",
      "2000/2000 [==============================] - 1862s 931ms/step - loss: 0.1040 - binary_accuracy: 0.9629 - precision: 0.9560 - recall: 0.9705 - val_loss: 0.1749 - val_binary_accuracy: 0.9401 - val_precision: 0.9106 - val_recall: 0.9760\n",
      "Epoch 5/10\n",
      "2000/2000 [==============================] - 1867s 933ms/step - loss: 0.0822 - binary_accuracy: 0.9709 - precision: 0.9660 - recall: 0.9761 - val_loss: 0.1247 - val_binary_accuracy: 0.9506 - val_precision: 0.9433 - val_recall: 0.9588\n",
      "Epoch 6/10\n",
      "2000/2000 [==============================] - 1865s 933ms/step - loss: 0.0673 - binary_accuracy: 0.9766 - precision: 0.9719 - recall: 0.9816 - val_loss: 0.1438 - val_binary_accuracy: 0.9472 - val_precision: 0.9423 - val_recall: 0.9528\n",
      "Epoch 7/10\n",
      "2000/2000 [==============================] - 1862s 931ms/step - loss: 0.0618 - binary_accuracy: 0.9790 - precision: 0.9755 - recall: 0.9827 - val_loss: 0.1393 - val_binary_accuracy: 0.9506 - val_precision: 0.9567 - val_recall: 0.9438\n",
      "Epoch 8/10\n",
      "2000/2000 [==============================] - 1861s 930ms/step - loss: 0.0379 - binary_accuracy: 0.9864 - precision: 0.9843 - recall: 0.9885 - val_loss: 0.1326 - val_binary_accuracy: 0.9592 - val_precision: 0.9560 - val_recall: 0.9625\n",
      "Epoch 9/10\n",
      "2000/2000 [==============================] - 1864s 932ms/step - loss: 0.0283 - binary_accuracy: 0.9904 - precision: 0.9888 - recall: 0.9919 - val_loss: 0.1318 - val_binary_accuracy: 0.9528 - val_precision: 0.9542 - val_recall: 0.9514\n",
      "Epoch 10/10\n",
      "2000/2000 [==============================] - 1863s 932ms/step - loss: 0.0366 - binary_accuracy: 0.9881 - precision: 0.9875 - recall: 0.9886 - val_loss: 0.1362 - val_binary_accuracy: 0.9551 - val_precision: 0.9439 - val_recall: 0.9679\n"
     ]
    }
   ],
   "source": [
    "history = model.fit_generator(train_generator, epochs=10, steps_per_epoch=2000, validation_data=valid_generator,\n",
    "                              shuffle=True, validation_steps=100)"
   ]
  },
  {
   "cell_type": "code",
   "execution_count": 48,
   "metadata": {},
   "outputs": [
    {
     "name": "stdout",
     "output_type": "stream",
     "text": [
      "69/69 [==============================] - 70s 1s/step - loss: 0.2576 - binary_accuracy: 0.9363 - precision: 0.1154 - recall: 0.9000\n"
     ]
    }
   ],
   "source": [
    "# Evaluating Model\n",
    "scores = model.evaluate(test_generator)"
   ]
  },
  {
   "cell_type": "code",
   "execution_count": 51,
   "metadata": {},
   "outputs": [
    {
     "name": "stderr",
     "output_type": "stream",
     "text": [
      "W0809 02:07:07.416972 140492141201152 deprecation.py:506] From /usr/local/lib/python3.5/dist-packages/tensorflow/python/ops/init_ops.py:97: calling GlorotUniform.__init__ (from tensorflow.python.ops.init_ops) with dtype is deprecated and will be removed in a future version.\n",
      "Instructions for updating:\n",
      "Call initializer instance with the dtype argument instead of passing it to the constructor\n",
      "W0809 02:07:07.417764 140492141201152 deprecation.py:506] From /usr/local/lib/python3.5/dist-packages/tensorflow/python/ops/init_ops.py:97: calling Zeros.__init__ (from tensorflow.python.ops.init_ops) with dtype is deprecated and will be removed in a future version.\n",
      "Instructions for updating:\n",
      "Call initializer instance with the dtype argument instead of passing it to the constructor\n",
      "W0809 02:07:07.941749 140492141201152 deprecation.py:323] From /usr/local/lib/python3.5/dist-packages/tensorflow/python/saved_model/signature_def_utils_impl.py:253: build_tensor_info (from tensorflow.python.saved_model.utils_impl) is deprecated and will be removed in a future version.\n",
      "Instructions for updating:\n",
      "This function will only be available through the v1 compatibility library as tf.compat.v1.saved_model.utils.build_tensor_info or tf.compat.v1.saved_model.build_tensor_info.\n",
      "W0809 02:07:07.942743 140492141201152 export_utils.py:182] Export includes no default signature!\n",
      "W0809 02:07:08.438274 140492141201152 export_utils.py:182] Export includes no default signature!\n"
     ]
    }
   ],
   "source": [
    "# Saving Model\n",
    "\n",
    "k.experimental.export_saved_model(model, 'models')\n",
    "\n",
    "# Recreate the exact same model\n",
    "new_model = k.experimental.load_from_saved_model('models')"
   ]
  },
  {
   "cell_type": "code",
   "execution_count": null,
   "metadata": {},
   "outputs": [],
   "source": []
  }
 ],
 "metadata": {
  "kernelspec": {
   "display_name": "Python 3",
   "language": "python",
   "name": "python3"
  },
  "language_info": {
   "codemirror_mode": {
    "name": "ipython",
    "version": 3
   },
   "file_extension": ".py",
   "mimetype": "text/x-python",
   "name": "python",
   "nbconvert_exporter": "python",
   "pygments_lexer": "ipython3",
   "version": "3.5.2"
  }
 },
 "nbformat": 4,
 "nbformat_minor": 2
}
